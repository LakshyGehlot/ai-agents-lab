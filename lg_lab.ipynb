{
 "cells": [
  {
   "cell_type": "code",
   "execution_count": 2,
   "id": "5f0980e6",
   "metadata": {},
   "outputs": [],
   "source": [
    "from typing import Annotated\n",
    "from typing_extensions import TypedDict\n",
    "\n",
    "from langgraph.graph import StateGraph, START, END\n",
    "from langchain_google_genai import ChatGoogleGenerativeAI\n",
    "from langchain_community.tools import DuckDuckGoSearchResults\n",
    "from langgraph.graph.message import add_messages\n",
    "\n",
    "from config import geminiKey"
   ]
  },
  {
   "cell_type": "markdown",
   "id": "836232c1",
   "metadata": {},
   "source": [
    "## Graph State"
   ]
  },
  {
   "cell_type": "code",
   "execution_count": 3,
   "id": "af3bd38d",
   "metadata": {},
   "outputs": [],
   "source": [
    "class ChatState(TypedDict):\n",
    "    messages: Annotated[list, add_messages]"
   ]
  },
  {
   "cell_type": "code",
   "execution_count": 4,
   "id": "541a692f",
   "metadata": {},
   "outputs": [],
   "source": [
    "chat = ChatGoogleGenerativeAI(api_key=geminiKey, model=\"gemini-1.5-flash\")"
   ]
  },
  {
   "cell_type": "markdown",
   "id": "73f4a2ea",
   "metadata": {},
   "source": [
    "# LangGraph basic chatbot"
   ]
  },
  {
   "cell_type": "code",
   "execution_count": null,
   "id": "a9069d3e",
   "metadata": {},
   "outputs": [],
   "source": [
    "def chatbot(state: ChatState):\n",
    "    # print(\"=\"*50)\n",
    "    # print(state)\n",
    "    # print(\"=\"*50)\n",
    "    return {\"messages\": [chat.invoke(state[\"messages\"])]}"
   ]
  },
  {
   "cell_type": "code",
   "execution_count": 42,
   "id": "52aac563",
   "metadata": {},
   "outputs": [],
   "source": [
    "graph_builder = StateGraph(ChatState)\n",
    "\n",
    "# Add node\n",
    "graph_builder.add_node(\"llm\", chatbot)\n",
    "\n",
    "# Add edges\n",
    "graph_builder.add_edge(START, \"llm\")\n",
    "graph_builder.add_edge(\"llm\", END)\n",
    "\n",
    "# compile graph\n",
    "agent = graph_builder.compile()"
   ]
  },
  {
   "cell_type": "code",
   "execution_count": 16,
   "id": "f0f1f510",
   "metadata": {},
   "outputs": [
    {
     "ename": "NameError",
     "evalue": "name 'agent' is not defined",
     "output_type": "error",
     "traceback": [
      "\u001b[31m---------------------------------------------------------------------------\u001b[39m",
      "\u001b[31mNameError\u001b[39m                                 Traceback (most recent call last)",
      "\u001b[36mCell\u001b[39m\u001b[36m \u001b[39m\u001b[32mIn[16]\u001b[39m\u001b[32m, line 9\u001b[39m\n\u001b[32m      7\u001b[39m     \u001b[38;5;28;01mexcept\u001b[39;00m \u001b[38;5;167;01mException\u001b[39;00m:\n\u001b[32m      8\u001b[39m         \u001b[38;5;28mprint\u001b[39m(\u001b[33m\"\u001b[39m\u001b[33mCannot draw graph\u001b[39m\u001b[33m\"\u001b[39m)\n\u001b[32m----> \u001b[39m\u001b[32m9\u001b[39m visualizeGraph(\u001b[43magent\u001b[49m)\n",
      "\u001b[31mNameError\u001b[39m: name 'agent' is not defined"
     ]
    }
   ],
   "source": [
    "# Visualize Graph\n",
    "from IPython.display import display, Image\n",
    "\n",
    "def visualizeGraph(graph):\n",
    "    try:\n",
    "        display(Image(graph.get_graph().draw_mermaid_png()))\n",
    "    except Exception:\n",
    "        print(\"Cannot draw graph\")\n",
    "visualizeGraph(agent)"
   ]
  },
  {
   "cell_type": "code",
   "execution_count": null,
   "id": "14438d4c",
   "metadata": {},
   "outputs": [
    {
     "name": "stdout",
     "output_type": "stream",
     "text": [
      "==================================================\n",
      "{'messages': [HumanMessage(content='Hi', additional_kwargs={}, response_metadata={}, id='326a2e08-19c2-4152-8280-282989426195')]}\n",
      "==================================================\n"
     ]
    },
    {
     "data": {
      "text/plain": [
       "'Hi there! How can I help you today?'"
      ]
     },
     "execution_count": 45,
     "metadata": {},
     "output_type": "execute_result"
    }
   ],
   "source": [
    "res = agent.invoke({\"messages\": [\"Hi\"]})\n",
    "res[\"messages\"][-1].content"
   ]
  },
  {
   "cell_type": "markdown",
   "id": "c7a2a86a",
   "metadata": {},
   "source": [
    "## Integrating tools"
   ]
  },
  {
   "cell_type": "code",
   "execution_count": 49,
   "id": "8fb3d7a4",
   "metadata": {},
   "outputs": [],
   "source": [
    "# from langchain_tavily import TavilySearch\n",
    "# tool = TavilySearch(max_results=5, search_depth=\"basic\")"
   ]
  },
  {
   "cell_type": "code",
   "execution_count": 5,
   "id": "f7d04c1e",
   "metadata": {},
   "outputs": [],
   "source": [
    "tool = DuckDuckGoSearchResults()\n",
    "# tool(\"langgraph\")"
   ]
  },
  {
   "cell_type": "code",
   "execution_count": 6,
   "id": "0ccdbf2d",
   "metadata": {},
   "outputs": [],
   "source": [
    "def calculator(equation: str) -> str:\n",
    "    \"\"\"\n",
    "    Evaluate a valid python mathamatical expression.\n",
    "    Args:\n",
    "        expression (str): Equation to solve\n",
    "    Return:\n",
    "        str: format \"Result of <expression> = <result>\"\n",
    "    \"\"\"\n",
    "    return f\"Resultof {equation} = {eval(equation)}\""
   ]
  },
  {
   "cell_type": "code",
   "execution_count": 7,
   "id": "1591e7ca",
   "metadata": {},
   "outputs": [],
   "source": [
    "tools = [tool, calculator]\n",
    "llm_with_tools = chat.bind_tools(tools)"
   ]
  },
  {
   "cell_type": "code",
   "execution_count": 8,
   "id": "fcd52be5",
   "metadata": {},
   "outputs": [],
   "source": [
    "from langgraph.prebuilt import ToolNode, tools_condition"
   ]
  },
  {
   "cell_type": "code",
   "execution_count": 9,
   "id": "c22e8985",
   "metadata": {},
   "outputs": [],
   "source": [
    "def chatbotv2(state: ChatState):\n",
    "    return {\"messages\": [llm_with_tools.invoke(state[\"messages\"])]}"
   ]
  },
  {
   "cell_type": "code",
   "execution_count": 10,
   "id": "699562af",
   "metadata": {},
   "outputs": [],
   "source": [
    "builder = StateGraph(ChatState)\n",
    "\n",
    "# Nodes\n",
    "builder.add_node(\"llm\", chatbotv2)\n",
    "builder.add_node(\"tools\", ToolNode(tools))\n",
    "\n",
    "# Edges\n",
    "builder.add_edge(START, \"llm\")\n",
    "builder.add_conditional_edges(\"llm\", tools_condition)\n",
    "builder.add_edge(\"tools\", END)\n",
    "\n",
    "agentv2 = builder.compile()"
   ]
  },
  {
   "cell_type": "code",
   "execution_count": 60,
   "id": "26ec85de",
   "metadata": {},
   "outputs": [
    {
     "data": {
      "image/png": "[encoded data removed]",
      "text/plain": [
       "<IPython.core.display.Image object>"
      ]
     },
     "metadata": {},
     "output_type": "display_data"
    }
   ],
   "source": [
    "visualizeGraph(agentv2)"
   ]
  },
  {
   "cell_type": "code",
   "execution_count": 62,
   "id": "cbad889f",
   "metadata": {},
   "outputs": [
    {
     "name": "stdout",
     "output_type": "stream",
     "text": [
      "======================================================================\n",
      "I am sorry, I do not have access to real-time information, including news about specific companies like Grok.  My knowledge about LLMs is based on the data I was trained on, which is not current.  To find the latest information on Grok's LLMs, I suggest searching online using a search engine like Google, DuckDuckGo, or Bing.\n",
      "======================================================================\n",
      "Resultof 0.23 * 892 = 205.16\n",
      "======================================================================\n",
      "I have access to the following tools:\n",
      "\n",
      "*   **`default_api.duckduckgo_results_json(query: str)`**: This function takes a search query as a string and returns a JSON object containing results from DuckDuckGo.  This is useful for answering questions about current events.\n",
      "\n",
      "*   **`default_api.calculator(equation: str)`**: This function takes a mathematical expression as a string and returns a string containing the result of the calculation.  It's useful for performing simple calculations.\n",
      "======================================================================\n"
     ]
    }
   ],
   "source": [
    "res1 = agentv2.invoke({\"messages\": \"Tell me about grok's latest llm\"})\n",
    "res2 = agentv2.invoke({\"messages\": \"find 23% of 892\"})\n",
    "res3 = agentv2.invoke({\"messages\": \"tell me about which tools you have access.\"})\n",
    "\n",
    "print(\"=\"*70)\n",
    "for res in [res1, res2, res3]:\n",
    "    print(res[\"messages\"][-1].content)\n",
    "    print(\"=\"*70)"
   ]
  },
  {
   "cell_type": "code",
   "execution_count": 11,
   "id": "c110afdd",
   "metadata": {},
   "outputs": [
    {
     "name": "stdout",
     "output_type": "stream",
     "text": [
      "================================\u001b[1m Human Message \u001b[0m=================================\n",
      "\n",
      "sqrt of 16\n",
      "==================================\u001b[1m Ai Message \u001b[0m==================================\n",
      "Tool Calls:\n",
      "  calculator (e6236999-637f-4822-a474-067fbe3c32d9)\n",
      " Call ID: e6236999-637f-4822-a474-067fbe3c32d9\n",
      "  Args:\n",
      "    equation: 16**0.5\n",
      "=================================\u001b[1m Tool Message \u001b[0m=================================\n",
      "Name: calculator\n",
      "\n",
      "Resultof 16**0.5 = 4.0\n"
     ]
    }
   ],
   "source": [
    "res = agentv2.invoke({\"messages\": \"sqrt of 16\"})\n",
    "\n",
    "for m in res['messages']:\n",
    "    m.pretty_print()"
   ]
  },
  {
   "cell_type": "markdown",
   "id": "d897689e",
   "metadata": {},
   "source": [
    "## ReACT Agent"
   ]
  },
  {
   "cell_type": "code",
   "execution_count": 13,
   "id": "5cce1666",
   "metadata": {},
   "outputs": [],
   "source": [
    "builder = StateGraph(ChatState)\n",
    "\n",
    "# Nodes\n",
    "builder.add_node(\"llm\", chatbotv2)\n",
    "builder.add_node(\"tools\", ToolNode(tools))\n",
    "\n",
    "# Edges\n",
    "builder.add_edge(START, \"llm\")\n",
    "builder.add_conditional_edges(\"llm\", tools_condition)\n",
    "builder.add_edge(\"tools\", \"llm\")\n",
    "\n",
    "react_agent = builder.compile()"
   ]
  },
  {
   "cell_type": "code",
   "execution_count": 17,
   "id": "5d885556",
   "metadata": {},
   "outputs": [
    {
     "data": {
      "image/png": "[encoded data removed]",
      "text/plain": [
       "<IPython.core.display.Image object>"
      ]
     },
     "metadata": {},
     "output_type": "display_data"
    }
   ],
   "source": [
    "visualizeGraph(react_agent)"
   ]
  },
  {
   "cell_type": "code",
   "execution_count": 22,
   "id": "678c0888",
   "metadata": {},
   "outputs": [
    {
     "name": "stdout",
     "output_type": "stream",
     "text": [
      "================================\u001b[1m Human Message \u001b[0m=================================\n",
      "\n",
      "What is transformer architecture and give square of 5.\n",
      "==================================\u001b[1m Ai Message \u001b[0m==================================\n",
      "\n",
      "Transformer architecture is a deep learning model architecture primarily used in natural language processing (NLP).  It relies on a mechanism called \"self-attention\" which allows the model to weigh the importance of different words in an input sequence when processing it.  This is in contrast to recurrent neural networks (RNNs) which process sequences sequentially.  The ability to process all words in parallel makes transformers significantly faster to train than RNNs, and they have achieved state-of-the-art results on many NLP tasks.  Key components include encoder and decoder stacks, each composed of multiple layers of self-attention and feed-forward neural networks.\n",
      "Tool Calls:\n",
      "  calculator (f00ec325-e74f-4186-bff1-b6f6a94068c3)\n",
      " Call ID: f00ec325-e74f-4186-bff1-b6f6a94068c3\n",
      "  Args:\n",
      "    equation: 5**2\n",
      "=================================\u001b[1m Tool Message \u001b[0m=================================\n",
      "Name: calculator\n",
      "\n",
      "Resultof 5**2 = 25\n",
      "==================================\u001b[1m Ai Message \u001b[0m==================================\n",
      "\n",
      "Transformer architecture is a deep learning model primarily used in natural language processing (NLP).  It relies on a mechanism called self-attention, which allows the model to weigh the importance of different words in an input sequence when processing it.  Unlike recurrent neural networks (RNNs), transformers process the entire input sequence in parallel, making them significantly faster and more efficient for long sequences.  This parallel processing is achieved through the self-attention mechanism, which computes relationships between all words simultaneously.\n",
      "\n",
      "The core components of a transformer include:\n",
      "\n",
      "* **Encoder:** Processes the input sequence and generates a contextualized representation of it.\n",
      "* **Decoder:** Generates the output sequence, often a translation or summary of the input.\n",
      "* **Self-Attention:**  Allows the model to focus on different parts of the input sequence, weighting their importance based on their relationships with other words.\n",
      "* **Feed-Forward Neural Network:**  Applies a non-linear transformation to the output of the self-attention mechanism.\n",
      "* **Positional Encoding:**  Adds information about the position of each word in the sequence, as transformers don't inherently process sequential information.\n",
      "\n",
      "\n",
      "The square of 5 is 25.\n"
     ]
    }
   ],
   "source": [
    "res = react_agent.invoke({\"messages\": \"What is transformer architecture and give square of 5.\"})\n",
    "for m in res[\"messages\"]:\n",
    "    m.pretty_print()"
   ]
  },
  {
   "cell_type": "markdown",
   "id": "c1155708",
   "metadata": {},
   "source": [
    "## Integrating memory in AI Agent"
   ]
  },
  {
   "cell_type": "code",
   "execution_count": 23,
   "id": "de98843d",
   "metadata": {},
   "outputs": [],
   "source": [
    "from langgraph.checkpoint.memory import MemorySaver"
   ]
  },
  {
   "cell_type": "code",
   "execution_count": 24,
   "id": "232b7077",
   "metadata": {},
   "outputs": [],
   "source": [
    "memory = MemorySaver()\n",
    "config={\"configurable\":{\"thread_id\":\"1\"}}"
   ]
  },
  {
   "cell_type": "code",
   "execution_count": 25,
   "id": "ca1a5d22",
   "metadata": {},
   "outputs": [],
   "source": [
    "agentv3 = builder.compile(checkpointer=memory)"
   ]
  },
  {
   "cell_type": "code",
   "execution_count": 29,
   "id": "8615353e",
   "metadata": {},
   "outputs": [
    {
     "name": "stdout",
     "output_type": "stream",
     "text": [
      "Hello again, Lakshy Gehlot!  What can I do for you?\n",
      "--------------------------------------------------------------------------------\n",
      "Your name is Lakshy Gehlot.\n"
     ]
    }
   ],
   "source": [
    "res1 = agentv3.invoke({\"messages\": \"Hello I am Lakshy Gehlot\"}, config=config)\n",
    "res2 = agentv3.invoke({\"messages\": \"Tell me, what is my name?\"}, config=config)\n",
    "\n",
    "print(res1[\"messages\"][-1].content)\n",
    "print(\"-\"*80)\n",
    "print(res2[\"messages\"][-1].content)"
   ]
  },
  {
   "cell_type": "markdown",
   "id": "e1cfb32a",
   "metadata": {},
   "source": [
    "## Streaming"
   ]
  },
  {
   "cell_type": "code",
   "execution_count": 33,
   "id": "fe294a79",
   "metadata": {},
   "outputs": [
    {
     "name": "stdout",
     "output_type": "stream",
     "text": [
      "{'messages': [HumanMessage(content='Hello I am Lakshy Gehlot', additional_kwargs={}, response_metadata={}, id='14359f1d-f245-4276-a3eb-c25b3846e27a'), AIMessage(content='Hello Lakshy Gehlot! How can I help you today?', additional_kwargs={}, response_metadata={'prompt_feedback': {'block_reason': 0, 'safety_ratings': []}, 'finish_reason': 'STOP', 'safety_ratings': []}, id='run--21e38100-4b3a-4c5e-ae16-4a8553404347-0', usage_metadata={'input_tokens': 94, 'output_tokens': 14, 'total_tokens': 108, 'input_token_details': {'cache_read': 0}}), HumanMessage(content='Tell me, what is my name?', additional_kwargs={}, response_metadata={}, id='11172ebd-188c-49b5-9705-8d3cd77da7f8'), AIMessage(content='Your name is Lakshy Gehlot.', additional_kwargs={}, response_metadata={'prompt_feedback': {'block_reason': 0, 'safety_ratings': []}, 'finish_reason': 'STOP', 'safety_ratings': []}, id='run--5799b510-8e53-43d5-9bd1-e3368ebe76ae-0', usage_metadata={'input_tokens': 115, 'output_tokens': 9, 'total_tokens': 124, 'input_token_details': {'cache_read': 0}}), HumanMessage(content='Hello I am Lakshy Gehlot', additional_kwargs={}, response_metadata={}, id='4abb8e8d-6c6c-4e46-972f-05dcf45f4038'), AIMessage(content='Hello again, Lakshy Gehlot!  Is there anything I can help you with?', additional_kwargs={}, response_metadata={'prompt_feedback': {'block_reason': 0, 'safety_ratings': []}, 'finish_reason': 'STOP', 'safety_ratings': []}, id='run--97cf7850-b2e4-475a-840e-535d6716c556-0', usage_metadata={'input_tokens': 130, 'output_tokens': 19, 'total_tokens': 149, 'input_token_details': {'cache_read': 0}}), HumanMessage(content='Tell me, what is my name?', additional_kwargs={}, response_metadata={}, id='78a04b8a-c6c4-4950-81d2-507fdda0f35f'), AIMessage(content='Your name is Lakshy Gehlot.', additional_kwargs={}, response_metadata={'prompt_feedback': {'block_reason': 0, 'safety_ratings': []}, 'finish_reason': 'STOP', 'safety_ratings': []}, id='run--162ee48c-3e65-4bde-981f-f3ae7a429d08-0', usage_metadata={'input_tokens': 156, 'output_tokens': 9, 'total_tokens': 165, 'input_token_details': {'cache_read': 0}}), HumanMessage(content='Hello I am Lakshy Gehlot', additional_kwargs={}, response_metadata={}, id='394118a6-08e7-45ac-bf79-5c41dee33129'), AIMessage(content='Hello Lakshy Gehlot!  How can I assist you today?', additional_kwargs={}, response_metadata={'prompt_feedback': {'block_reason': 0, 'safety_ratings': []}, 'finish_reason': 'STOP', 'safety_ratings': []}, id='run--8f6f53de-11b0-4c41-90c6-d7155dba3199-0', usage_metadata={'input_tokens': 171, 'output_tokens': 15, 'total_tokens': 186, 'input_token_details': {'cache_read': 0}}), HumanMessage(content='Tell me, what is my name?', additional_kwargs={}, response_metadata={}, id='f0b2ddf3-d517-4d20-bfe9-6c2c43a7a33b'), AIMessage(content='Your name is Lakshy Gehlot.', additional_kwargs={}, response_metadata={'prompt_feedback': {'block_reason': 0, 'safety_ratings': []}, 'finish_reason': 'STOP', 'safety_ratings': []}, id='run--36db4ece-1b52-4a5b-a43f-cdf4be9c5f95-0', usage_metadata={'input_tokens': 193, 'output_tokens': 9, 'total_tokens': 202, 'input_token_details': {'cache_read': 0}}), HumanMessage(content='Hello I am Lakshy Gehlot', additional_kwargs={}, response_metadata={}, id='7a324f51-abe2-41c2-a5dd-8e77f7c9be55'), AIMessage(content='Hello again, Lakshy Gehlot!  What can I do for you?', additional_kwargs={}, response_metadata={'prompt_feedback': {'block_reason': 0, 'safety_ratings': []}, 'finish_reason': 'STOP', 'safety_ratings': []}, id='run--505d2710-d2f5-4f21-bd6c-b7b5f2685c29-0', usage_metadata={'input_tokens': 208, 'output_tokens': 17, 'total_tokens': 225, 'input_token_details': {'cache_read': 0}}), HumanMessage(content='Tell me, what is my name?', additional_kwargs={}, response_metadata={}, id='ad0d899b-7fa9-4af5-b581-0646c70b2349'), AIMessage(content='Your name is Lakshy Gehlot.', additional_kwargs={}, response_metadata={'prompt_feedback': {'block_reason': 0, 'safety_ratings': []}, 'finish_reason': 'STOP', 'safety_ratings': []}, id='run--1b43e81e-2a4f-49f9-b940-0beedfcddc15-0', usage_metadata={'input_tokens': 232, 'output_tokens': 9, 'total_tokens': 241, 'input_token_details': {'cache_read': 0}}), HumanMessage(content='Hi,My name is Krish And I like cricket', additional_kwargs={}, response_metadata={}, id='7a33b717-c1fa-4407-9c98-1790e400e713'), AIMessage(content=\"Hi Krish!  It's nice to meet you.  Cricket is a great sport!\", additional_kwargs={}, response_metadata={'prompt_feedback': {'block_reason': 0, 'safety_ratings': []}, 'finish_reason': 'STOP', 'safety_ratings': []}, id='run--0cb62db8-b99f-4fe6-b547-22cfd7dfa723-0', usage_metadata={'input_tokens': 250, 'output_tokens': 20, 'total_tokens': 270, 'input_token_details': {'cache_read': 0}}), HumanMessage(content='Hi, tell me about yourself', additional_kwargs={}, response_metadata={}, id='8b976a81-7565-4abd-b55d-5e4f6cb3cf9d'), AIMessage(content=\"I'm Gemini, a large language model created by Google.  I can process information and respond to a wide range of prompts and questions.  I can provide summaries of factual topics, create stories, and translate languages, among other things.  I'm still under development, but I'm constantly learning and improving.  How can I help you today?\", additional_kwargs={}, response_metadata={'prompt_feedback': {'block_reason': 0, 'safety_ratings': []}, 'finish_reason': 'STOP', 'safety_ratings': []}, id='run--4bca5124-6f0b-4183-ab83-3df62f67cc60-0', usage_metadata={'input_tokens': 275, 'output_tokens': 75, 'total_tokens': 350, 'input_token_details': {'cache_read': 0}}), HumanMessage(content='Hi, tell me about grok 4.', additional_kwargs={}, response_metadata={}, id='8c97b5ff-ca6d-4d47-8e89-ee04156c238d'), AIMessage(content='I do not have specific information about a product or technology called \"grok 4\".  To learn about it, I would suggest searching online using a search engine like Google, Bing, or DuckDuckGo.  Try searching for \"grok 4\" to find relevant information.', additional_kwargs={}, response_metadata={'prompt_feedback': {'block_reason': 0, 'safety_ratings': []}, 'finish_reason': 'STOP', 'safety_ratings': []}, id='run--ee8ee2c9-9dff-4a88-a0f3-75e077699a4e-0', usage_metadata={'input_tokens': 359, 'output_tokens': 59, 'total_tokens': 418, 'input_token_details': {'cache_read': 0}}), HumanMessage(content='Hi, tell me about grok 4.', additional_kwargs={}, response_metadata={}, id='69dd43ad-2a7c-4196-a925-2672a79a17c9')]}\n",
      "{'messages': [HumanMessage(content='Hello I am Lakshy Gehlot', additional_kwargs={}, response_metadata={}, id='14359f1d-f245-4276-a3eb-c25b3846e27a'), AIMessage(content='Hello Lakshy Gehlot! How can I help you today?', additional_kwargs={}, response_metadata={'prompt_feedback': {'block_reason': 0, 'safety_ratings': []}, 'finish_reason': 'STOP', 'safety_ratings': []}, id='run--21e38100-4b3a-4c5e-ae16-4a8553404347-0', usage_metadata={'input_tokens': 94, 'output_tokens': 14, 'total_tokens': 108, 'input_token_details': {'cache_read': 0}}), HumanMessage(content='Tell me, what is my name?', additional_kwargs={}, response_metadata={}, id='11172ebd-188c-49b5-9705-8d3cd77da7f8'), AIMessage(content='Your name is Lakshy Gehlot.', additional_kwargs={}, response_metadata={'prompt_feedback': {'block_reason': 0, 'safety_ratings': []}, 'finish_reason': 'STOP', 'safety_ratings': []}, id='run--5799b510-8e53-43d5-9bd1-e3368ebe76ae-0', usage_metadata={'input_tokens': 115, 'output_tokens': 9, 'total_tokens': 124, 'input_token_details': {'cache_read': 0}}), HumanMessage(content='Hello I am Lakshy Gehlot', additional_kwargs={}, response_metadata={}, id='4abb8e8d-6c6c-4e46-972f-05dcf45f4038'), AIMessage(content='Hello again, Lakshy Gehlot!  Is there anything I can help you with?', additional_kwargs={}, response_metadata={'prompt_feedback': {'block_reason': 0, 'safety_ratings': []}, 'finish_reason': 'STOP', 'safety_ratings': []}, id='run--97cf7850-b2e4-475a-840e-535d6716c556-0', usage_metadata={'input_tokens': 130, 'output_tokens': 19, 'total_tokens': 149, 'input_token_details': {'cache_read': 0}}), HumanMessage(content='Tell me, what is my name?', additional_kwargs={}, response_metadata={}, id='78a04b8a-c6c4-4950-81d2-507fdda0f35f'), AIMessage(content='Your name is Lakshy Gehlot.', additional_kwargs={}, response_metadata={'prompt_feedback': {'block_reason': 0, 'safety_ratings': []}, 'finish_reason': 'STOP', 'safety_ratings': []}, id='run--162ee48c-3e65-4bde-981f-f3ae7a429d08-0', usage_metadata={'input_tokens': 156, 'output_tokens': 9, 'total_tokens': 165, 'input_token_details': {'cache_read': 0}}), HumanMessage(content='Hello I am Lakshy Gehlot', additional_kwargs={}, response_metadata={}, id='394118a6-08e7-45ac-bf79-5c41dee33129'), AIMessage(content='Hello Lakshy Gehlot!  How can I assist you today?', additional_kwargs={}, response_metadata={'prompt_feedback': {'block_reason': 0, 'safety_ratings': []}, 'finish_reason': 'STOP', 'safety_ratings': []}, id='run--8f6f53de-11b0-4c41-90c6-d7155dba3199-0', usage_metadata={'input_tokens': 171, 'output_tokens': 15, 'total_tokens': 186, 'input_token_details': {'cache_read': 0}}), HumanMessage(content='Tell me, what is my name?', additional_kwargs={}, response_metadata={}, id='f0b2ddf3-d517-4d20-bfe9-6c2c43a7a33b'), AIMessage(content='Your name is Lakshy Gehlot.', additional_kwargs={}, response_metadata={'prompt_feedback': {'block_reason': 0, 'safety_ratings': []}, 'finish_reason': 'STOP', 'safety_ratings': []}, id='run--36db4ece-1b52-4a5b-a43f-cdf4be9c5f95-0', usage_metadata={'input_tokens': 193, 'output_tokens': 9, 'total_tokens': 202, 'input_token_details': {'cache_read': 0}}), HumanMessage(content='Hello I am Lakshy Gehlot', additional_kwargs={}, response_metadata={}, id='7a324f51-abe2-41c2-a5dd-8e77f7c9be55'), AIMessage(content='Hello again, Lakshy Gehlot!  What can I do for you?', additional_kwargs={}, response_metadata={'prompt_feedback': {'block_reason': 0, 'safety_ratings': []}, 'finish_reason': 'STOP', 'safety_ratings': []}, id='run--505d2710-d2f5-4f21-bd6c-b7b5f2685c29-0', usage_metadata={'input_tokens': 208, 'output_tokens': 17, 'total_tokens': 225, 'input_token_details': {'cache_read': 0}}), HumanMessage(content='Tell me, what is my name?', additional_kwargs={}, response_metadata={}, id='ad0d899b-7fa9-4af5-b581-0646c70b2349'), AIMessage(content='Your name is Lakshy Gehlot.', additional_kwargs={}, response_metadata={'prompt_feedback': {'block_reason': 0, 'safety_ratings': []}, 'finish_reason': 'STOP', 'safety_ratings': []}, id='run--1b43e81e-2a4f-49f9-b940-0beedfcddc15-0', usage_metadata={'input_tokens': 232, 'output_tokens': 9, 'total_tokens': 241, 'input_token_details': {'cache_read': 0}}), HumanMessage(content='Hi,My name is Krish And I like cricket', additional_kwargs={}, response_metadata={}, id='7a33b717-c1fa-4407-9c98-1790e400e713'), AIMessage(content=\"Hi Krish!  It's nice to meet you.  Cricket is a great sport!\", additional_kwargs={}, response_metadata={'prompt_feedback': {'block_reason': 0, 'safety_ratings': []}, 'finish_reason': 'STOP', 'safety_ratings': []}, id='run--0cb62db8-b99f-4fe6-b547-22cfd7dfa723-0', usage_metadata={'input_tokens': 250, 'output_tokens': 20, 'total_tokens': 270, 'input_token_details': {'cache_read': 0}}), HumanMessage(content='Hi, tell me about yourself', additional_kwargs={}, response_metadata={}, id='8b976a81-7565-4abd-b55d-5e4f6cb3cf9d'), AIMessage(content=\"I'm Gemini, a large language model created by Google.  I can process information and respond to a wide range of prompts and questions.  I can provide summaries of factual topics, create stories, and translate languages, among other things.  I'm still under development, but I'm constantly learning and improving.  How can I help you today?\", additional_kwargs={}, response_metadata={'prompt_feedback': {'block_reason': 0, 'safety_ratings': []}, 'finish_reason': 'STOP', 'safety_ratings': []}, id='run--4bca5124-6f0b-4183-ab83-3df62f67cc60-0', usage_metadata={'input_tokens': 275, 'output_tokens': 75, 'total_tokens': 350, 'input_token_details': {'cache_read': 0}}), HumanMessage(content='Hi, tell me about grok 4.', additional_kwargs={}, response_metadata={}, id='8c97b5ff-ca6d-4d47-8e89-ee04156c238d'), AIMessage(content='I do not have specific information about a product or technology called \"grok 4\".  To learn about it, I would suggest searching online using a search engine like Google, Bing, or DuckDuckGo.  Try searching for \"grok 4\" to find relevant information.', additional_kwargs={}, response_metadata={'prompt_feedback': {'block_reason': 0, 'safety_ratings': []}, 'finish_reason': 'STOP', 'safety_ratings': []}, id='run--ee8ee2c9-9dff-4a88-a0f3-75e077699a4e-0', usage_metadata={'input_tokens': 359, 'output_tokens': 59, 'total_tokens': 418, 'input_token_details': {'cache_read': 0}}), HumanMessage(content='Hi, tell me about grok 4.', additional_kwargs={}, response_metadata={}, id='69dd43ad-2a7c-4196-a925-2672a79a17c9'), AIMessage(content='I don\\'t have any information about a specific product or technology called \"grok 4\".  My knowledge is based on the data I was trained on, and it doesn\\'t include details about that particular item.  A web search might be helpful if you\\'d like to learn more.', additional_kwargs={}, response_metadata={'prompt_feedback': {'block_reason': 0, 'safety_ratings': []}, 'finish_reason': 'STOP', 'safety_ratings': []}, id='run--b2166645-2918-4606-8412-910f4dc02d01-0', usage_metadata={'input_tokens': 427, 'output_tokens': 62, 'total_tokens': 489, 'input_token_details': {'cache_read': 0}})]}\n"
     ]
    }
   ],
   "source": [
    "for chunk in agentv3.stream({'messages':\"Hi, tell me about grok 4.\"},config,stream_mode=\"values\"):\n",
    "    print(chunk)"
   ]
  }
 ],
 "metadata": {
  "kernelspec": {
   "display_name": ".venv",
   "language": "python",
   "name": "python3"
  },
  "language_info": {
   "codemirror_mode": {
    "name": "ipython",
    "version": 3
   },
   "file_extension": ".py",
   "mimetype": "text/x-python",
   "name": "python",
   "nbconvert_exporter": "python",
   "pygments_lexer": "ipython3",
   "version": "3.12.3"
  }
 },
 "nbformat": 4,
 "nbformat_minor": 5
}
