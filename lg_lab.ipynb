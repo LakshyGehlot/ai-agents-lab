{
 "cells": [
  {
   "cell_type": "code",
   "execution_count": 38,
   "id": "5f0980e6",
   "metadata": {},
   "outputs": [],
   "source": [
    "from typing import Annotated\n",
    "from typing_extensions import TypedDict\n",
    "\n",
    "from langgraph.graph import StateGraph, START, END\n",
    "from langchain_google_genai import ChatGoogleGenerativeAI\n",
    "from langchain_community.tools import DuckDuckGoSearchResults\n",
    "from langgraph.graph.message import add_messages\n",
    "\n",
    "from config import geminiKey"
   ]
  },
  {
   "cell_type": "markdown",
   "id": "836232c1",
   "metadata": {},
   "source": [
    "## Graph State"
   ]
  },
  {
   "cell_type": "code",
   "execution_count": 39,
   "id": "af3bd38d",
   "metadata": {},
   "outputs": [],
   "source": [
    "class ChatState(TypedDict):\n",
    "    messages: Annotated[list, add_messages]"
   ]
  },
  {
   "cell_type": "code",
   "execution_count": 40,
   "id": "541a692f",
   "metadata": {},
   "outputs": [],
   "source": [
    "chat = ChatGoogleGenerativeAI(api_key=geminiKey, model=\"gemini-1.5-flash\")"
   ]
  },
  {
   "cell_type": "markdown",
   "id": "73f4a2ea",
   "metadata": {},
   "source": [
    "# LangGraph basic chatbot"
   ]
  },
  {
   "cell_type": "code",
   "execution_count": null,
   "id": "a9069d3e",
   "metadata": {},
   "outputs": [],
   "source": [
    "def chatbot(state: ChatState):\n",
    "    # print(\"=\"*50)\n",
    "    # print(state)\n",
    "    # print(\"=\"*50)\n",
    "    return {\"messages\": [chat.invoke(state[\"messages\"])]}"
   ]
  },
  {
   "cell_type": "code",
   "execution_count": 42,
   "id": "52aac563",
   "metadata": {},
   "outputs": [],
   "source": [
    "graph_builder = StateGraph(ChatState)\n",
    "\n",
    "# Add node\n",
    "graph_builder.add_node(\"llm\", chatbot)\n",
    "\n",
    "# Add edges\n",
    "graph_builder.add_edge(START, \"llm\")\n",
    "graph_builder.add_edge(\"llm\", END)\n",
    "\n",
    "# compile graph\n",
    "agent = graph_builder.compile()"
   ]
  },
  {
   "cell_type": "code",
   "execution_count": 43,
   "id": "f0f1f510",
   "metadata": {},
   "outputs": [
    {
     "data": {
      "image/png": "[encoded data removed]",
      "text/plain": [
       "<IPython.core.display.Image object>"
      ]
     },
     "metadata": {},
     "output_type": "display_data"
    }
   ],
   "source": [
    "# Visualize Graph\n",
    "from IPython.display import display, Image\n",
    "\n",
    "def visualizeGraph(graph):\n",
    "    try:\n",
    "        display(Image(graph.get_graph().draw_mermaid_png()))\n",
    "    except Exception:\n",
    "        print(\"Cannot draw graph\")\n",
    "\n",
    "visualizeGraph(agent)"
   ]
  },
  {
   "cell_type": "code",
   "execution_count": null,
   "id": "14438d4c",
   "metadata": {},
   "outputs": [
    {
     "name": "stdout",
     "output_type": "stream",
     "text": [
      "==================================================\n",
      "{'messages': [HumanMessage(content='Hi', additional_kwargs={}, response_metadata={}, id='326a2e08-19c2-4152-8280-282989426195')]}\n",
      "==================================================\n"
     ]
    },
    {
     "data": {
      "text/plain": [
       "'Hi there! How can I help you today?'"
      ]
     },
     "execution_count": 45,
     "metadata": {},
     "output_type": "execute_result"
    }
   ],
   "source": [
    "res = agent.invoke({\"messages\": [\"Hi\"]})\n",
    "res[\"messages\"][-1].content"
   ]
  },
  {
   "cell_type": "code",
   "execution_count": null,
   "id": "8fb3d7a4",
   "metadata": {},
   "outputs": [],
   "source": []
  }
 ],
 "metadata": {
  "kernelspec": {
   "display_name": ".venv",
   "language": "python",
   "name": "python3"
  },
  "language_info": {
   "codemirror_mode": {
    "name": "ipython",
    "version": 3
   },
   "file_extension": ".py",
   "mimetype": "text/x-python",
   "name": "python",
   "nbconvert_exporter": "python",
   "pygments_lexer": "ipython3",
   "version": "3.12.3"
  }
 },
 "nbformat": 4,
 "nbformat_minor": 5
}
